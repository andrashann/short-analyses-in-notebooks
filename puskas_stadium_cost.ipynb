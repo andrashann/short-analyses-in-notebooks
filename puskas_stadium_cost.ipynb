{
 "cells": [
  {
   "cell_type": "markdown",
   "metadata": {},
   "source": [
    "# Is the new Puskás Stadium in Budapest really too expensive?\n",
    "\n",
    "> **Abstract:** While [444](http://www.444.hu) claims that the new national stadium in Hungary, Puskás Stadium, is unrealisically expensive, the data they provide to prove this claim shows the exact opposite: based on the number of seats, the stadium costs almost exactly as much as we would expect.\n",
    "\n",
    "Hungarian online newspaper [444](http://www.444.hu) has recently published an [article](https://444.hu/2017/02/27/egyaltalan-nem-igaz-hogy-realis-az-uj-puskas-stadion-140-milliardos-koltsege) stating that the new national stadium in Hungary, Puskás, is unrealistically expensive, since it costs €6740/seat to build. They even collected data on other stadiums: their capacity and building costs.\n",
    "\n",
    "My goal is to see whether the claim that the cost of this specific stadium is too high is justified – using the data provided in the article.\n",
    "\n",
    "Let's import some packages to work with:"
   ]
  },
  {
   "cell_type": "code",
   "execution_count": 1,
   "metadata": {
    "collapsed": false
   },
   "outputs": [],
   "source": [
    "# this makes sure matplotlib plots are displayed inline (later on):\n",
    "%matplotlib inline \n",
    "\n",
    "import pandas as pd\n",
    "import numpy as np"
   ]
  },
  {
   "cell_type": "markdown",
   "metadata": {},
   "source": [
    "## Data collection and manipulation\n",
    "\n",
    "Luckily, Pandas has exceptional HTML-reading capabilities, so we can import the table from the article in one line of code. We have to ignore the first line (as that is the overall title of the table) and set the thousands separator to '.'. The table is the first (and only) one in the article that `pandas` finds, so I take the first element of the list of results. Finally I remove the last line of the table since that countains the source."
   ]
  },
  {
   "cell_type": "code",
   "execution_count": 2,
   "metadata": {
    "collapsed": false
   },
   "outputs": [],
   "source": [
    "stadiums = pd.read_html('https://444.hu/2017/02/27/egyaltalan-nem-igaz-hogy-realis-az-uj-puskas-stadion-140-milliardos-koltsege'\n",
    "                        , skiprows=1, header=0, thousands='.')[0][:-1]"
   ]
  },
  {
   "cell_type": "markdown",
   "metadata": {},
   "source": [
    "Using domain knowledge (knowledge of the Hungarian language), let's change the column names and column values to English (n.b.: overall costs are in million €s, per-seat costs in €s, but this is omitted for brevity):"
   ]
  },
  {
   "cell_type": "code",
   "execution_count": 3,
   "metadata": {
    "collapsed": false
   },
   "outputs": [],
   "source": [
    "country_names = {'Anglia':'England',u'Azerbajdzsán':'Azerbaijan',u'Belgium':'Belgium',u'Bulgária':'Bulgaria',u'Fehéroroszo.':'Belarussia',u'Franciao.':'France',u'Lengyelo.':'Poland',u'Magyaro.':'Hungary',u'Németo.':'Germany',u'Olaszo.':'Italy',u'Oroszo.':'Russia',u'Románia':'Romania',u'Spanyolo.':'Spain'}\n",
    "\n",
    "stadiums.columns = ['name', 'country', 'city', 'nr_seats', 'cost', 'cost_per_seat', 'reason_for_construction']\n",
    "stadiums['country'] = stadiums['country'].map(country_names)\n",
    "stadiums['name'] = stadiums['name'].apply(lambda x: 'National Stadium' if x == u'Nemzeti stadion' else x)\n",
    "stadiums.index = stadiums[['name', 'country']].apply(lambda x: ', '.join(x), axis=1)"
   ]
  },
  {
   "cell_type": "markdown",
   "metadata": {},
   "source": [
    "We will only need a few columns, so let's keep only those:"
   ]
  },
  {
   "cell_type": "code",
   "execution_count": 4,
   "metadata": {
    "collapsed": false
   },
   "outputs": [],
   "source": [
    "stadiums = stadiums[['nr_seats', 'cost', 'cost_per_seat']]"
   ]
  },
  {
   "cell_type": "markdown",
   "metadata": {},
   "source": [
    "Let's check if our data is indeed correct:"
   ]
  },
  {
   "cell_type": "code",
   "execution_count": 5,
   "metadata": {
    "collapsed": false,
    "scrolled": true
   },
   "outputs": [
    {
     "data": {
      "text/html": [
       "<div>\n",
       "<table border=\"1\" class=\"dataframe\">\n",
       "  <thead>\n",
       "    <tr style=\"text-align: right;\">\n",
       "      <th></th>\n",
       "      <th>nr_seats</th>\n",
       "      <th>cost</th>\n",
       "      <th>cost_per_seat</th>\n",
       "    </tr>\n",
       "  </thead>\n",
       "  <tbody>\n",
       "    <tr>\n",
       "      <th>National Stadium, Bulgaria</th>\n",
       "      <td>33621</td>\n",
       "      <td>49,5</td>\n",
       "      <td>1472</td>\n",
       "    </tr>\n",
       "    <tr>\n",
       "      <th>Nagyerdei, Hungary</th>\n",
       "      <td>20340</td>\n",
       "      <td>40</td>\n",
       "      <td>1982</td>\n",
       "    </tr>\n",
       "    <tr>\n",
       "      <th>Groupama Aréna (FTC), Hungary</th>\n",
       "      <td>22000</td>\n",
       "      <td>47</td>\n",
       "      <td>2160</td>\n",
       "    </tr>\n",
       "  </tbody>\n",
       "</table>\n",
       "</div>"
      ],
      "text/plain": [
       "                               nr_seats  cost  cost_per_seat\n",
       "National Stadium, Bulgaria        33621  49,5           1472\n",
       "Nagyerdei, Hungary                20340    40           1982\n",
       "Groupama Aréna (FTC), Hungary     22000    47           2160"
      ]
     },
     "execution_count": 5,
     "metadata": {},
     "output_type": "execute_result"
    }
   ],
   "source": [
    "stadiums.head(3)"
   ]
  },
  {
   "cell_type": "markdown",
   "metadata": {},
   "source": [
    "Unfortunately, the Cost column is still a string as the `read_html` method does not allow the specify the decimal separator, which is a comma in Hungarian. Let's fix that by replacing the comma with a period, then turning the string to a float in the Cost column.\n",
    "\n",
    "While we're there, let's also multiply the costs by 1,000,000 so that we get the actual € cost."
   ]
  },
  {
   "cell_type": "code",
   "execution_count": 6,
   "metadata": {
    "collapsed": false
   },
   "outputs": [],
   "source": [
    "stadiums['cost'] = stadiums['cost'].map(lambda x: float(x.replace(',','.'))*1e6)"
   ]
  },
  {
   "cell_type": "markdown",
   "metadata": {},
   "source": [
    "## Visual inspection of the data\n",
    "\n",
    "Let's look at our full data table now that we have it in its proper form:"
   ]
  },
  {
   "cell_type": "code",
   "execution_count": 7,
   "metadata": {
    "collapsed": false
   },
   "outputs": [
    {
     "data": {
      "text/html": [
       "<div>\n",
       "<table border=\"1\" class=\"dataframe\">\n",
       "  <thead>\n",
       "    <tr style=\"text-align: right;\">\n",
       "      <th></th>\n",
       "      <th>nr_seats</th>\n",
       "      <th>cost</th>\n",
       "      <th>cost_per_seat</th>\n",
       "    </tr>\n",
       "  </thead>\n",
       "  <tbody>\n",
       "    <tr>\n",
       "      <th>National Stadium, Bulgaria</th>\n",
       "      <td>33621</td>\n",
       "      <td>49500000</td>\n",
       "      <td>1472</td>\n",
       "    </tr>\n",
       "    <tr>\n",
       "      <th>Nagyerdei, Hungary</th>\n",
       "      <td>20340</td>\n",
       "      <td>40000000</td>\n",
       "      <td>1982</td>\n",
       "    </tr>\n",
       "    <tr>\n",
       "      <th>Groupama Aréna (FTC), Hungary</th>\n",
       "      <td>22000</td>\n",
       "      <td>47000000</td>\n",
       "      <td>2160</td>\n",
       "    </tr>\n",
       "    <tr>\n",
       "      <th>Juventus, Italy</th>\n",
       "      <td>41000</td>\n",
       "      <td>105000000</td>\n",
       "      <td>2560</td>\n",
       "    </tr>\n",
       "    <tr>\n",
       "      <th>Pancho Aréna, Hungary</th>\n",
       "      <td>3500</td>\n",
       "      <td>12000000</td>\n",
       "      <td>3500</td>\n",
       "    </tr>\n",
       "    <tr>\n",
       "      <th>Traktor, Belarussia</th>\n",
       "      <td>31000</td>\n",
       "      <td>115000000</td>\n",
       "      <td>3709</td>\n",
       "    </tr>\n",
       "    <tr>\n",
       "      <th>San Memés, Spain</th>\n",
       "      <td>53289</td>\n",
       "      <td>198000000</td>\n",
       "      <td>3735</td>\n",
       "    </tr>\n",
       "    <tr>\n",
       "      <th>Vélodrome, France</th>\n",
       "      <td>67394</td>\n",
       "      <td>267000000</td>\n",
       "      <td>3961</td>\n",
       "    </tr>\n",
       "    <tr>\n",
       "      <th>National Stadium, Romania</th>\n",
       "      <td>55634</td>\n",
       "      <td>234000000</td>\n",
       "      <td>4206</td>\n",
       "    </tr>\n",
       "    <tr>\n",
       "      <th>Hidegkuti (MTK), Hungary</th>\n",
       "      <td>5332</td>\n",
       "      <td>23000000</td>\n",
       "      <td>4394</td>\n",
       "    </tr>\n",
       "    <tr>\n",
       "      <th>Allianz Aréna, Germany</th>\n",
       "      <td>69901</td>\n",
       "      <td>340000000</td>\n",
       "      <td>4864</td>\n",
       "    </tr>\n",
       "    <tr>\n",
       "      <th>Eurostadion, Belgium</th>\n",
       "      <td>62613</td>\n",
       "      <td>314000000</td>\n",
       "      <td>5014</td>\n",
       "    </tr>\n",
       "    <tr>\n",
       "      <th>Puskás, Hungary</th>\n",
       "      <td>67000</td>\n",
       "      <td>458000000</td>\n",
       "      <td>6740</td>\n",
       "    </tr>\n",
       "    <tr>\n",
       "      <th>National Stadium, Poland</th>\n",
       "      <td>58145</td>\n",
       "      <td>430000000</td>\n",
       "      <td>7395</td>\n",
       "    </tr>\n",
       "    <tr>\n",
       "      <th>Wembley, England</th>\n",
       "      <td>90000</td>\n",
       "      <td>900000000</td>\n",
       "      <td>10000</td>\n",
       "    </tr>\n",
       "    <tr>\n",
       "      <th>National Stadium, Azerbaijan</th>\n",
       "      <td>69870</td>\n",
       "      <td>710000000</td>\n",
       "      <td>10161</td>\n",
       "    </tr>\n",
       "    <tr>\n",
       "      <th>Kresztotvszki, Russia</th>\n",
       "      <td>61251</td>\n",
       "      <td>934000000</td>\n",
       "      <td>15248</td>\n",
       "    </tr>\n",
       "  </tbody>\n",
       "</table>\n",
       "</div>"
      ],
      "text/plain": [
       "                               nr_seats       cost  cost_per_seat\n",
       "National Stadium, Bulgaria        33621   49500000           1472\n",
       "Nagyerdei, Hungary                20340   40000000           1982\n",
       "Groupama Aréna (FTC), Hungary     22000   47000000           2160\n",
       "Juventus, Italy                   41000  105000000           2560\n",
       "Pancho Aréna, Hungary              3500   12000000           3500\n",
       "Traktor, Belarussia               31000  115000000           3709\n",
       "San Memés, Spain                  53289  198000000           3735\n",
       "Vélodrome, France                 67394  267000000           3961\n",
       "National Stadium, Romania         55634  234000000           4206\n",
       "Hidegkuti (MTK), Hungary           5332   23000000           4394\n",
       "Allianz Aréna, Germany            69901  340000000           4864\n",
       "Eurostadion, Belgium              62613  314000000           5014\n",
       "Puskás, Hungary                   67000  458000000           6740\n",
       "National Stadium, Poland          58145  430000000           7395\n",
       "Wembley, England                  90000  900000000          10000\n",
       "National Stadium, Azerbaijan      69870  710000000          10161\n",
       "Kresztotvszki, Russia             61251  934000000          15248"
      ]
     },
     "execution_count": 7,
     "metadata": {},
     "output_type": "execute_result"
    }
   ],
   "source": [
    "stadiums.head(30)"
   ]
  },
  {
   "cell_type": "markdown",
   "metadata": {},
   "source": [
    "It is always a good idea to look at a scatterplot to have a visual understading between the variables of interest. \n",
    "\n",
    "It is hard to form a hypothesis about the seat number – cost relationship as it there could be economies of scale when building stadiums (i.e. the cost of an extra seat goes down with the number of seats), or larger stadiums could have even higher per-chair cost as they have extra facilities, equipment, areas for other sports other than football, security systems, etc.\n",
    "\n",
    "Looking at the relationship between the number of seats and the cost per seat, the relationship seems to be somewhat J-shaped with a minimum cost per seat at around 30,000 seats:"
   ]
  },
  {
   "cell_type": "code",
   "execution_count": 8,
   "metadata": {
    "collapsed": false
   },
   "outputs": [
    {
     "data": {
      "text/plain": [
       "<matplotlib.axes._subplots.AxesSubplot at 0x10987d910>"
      ]
     },
     "execution_count": 8,
     "metadata": {},
     "output_type": "execute_result"
    },
    {
     "data": {
      "image/png": "[encoded data removed]",
      "text/plain": [
       "<matplotlib.figure.Figure at 0x109894ad0>"
      ]
     },
     "metadata": {},
     "output_type": "display_data"
    }
   ],
   "source": [
    "stadiums.plot(kind='scatter', x='nr_seats', y=u'cost_per_seat', ylim=(0,1.1e4), xlim=(0,1e5))"
   ]
  },
  {
   "cell_type": "markdown",
   "metadata": {},
   "source": [
    "In our case to see whether Puskás Stadium really is too expensive, let's look at the general relationship between number of seats and total costs. This plot is shown below:"
   ]
  },
  {
   "cell_type": "code",
   "execution_count": 9,
   "metadata": {
    "collapsed": false,
    "scrolled": true
   },
   "outputs": [
    {
     "data": {
      "text/plain": [
       "<matplotlib.axes._subplots.AxesSubplot at 0x106e92890>"
      ]
     },
     "execution_count": 9,
     "metadata": {},
     "output_type": "execute_result"
    },
    {
     "data": {
      "image/png": "[encoded data removed]",
      "text/plain": [
       "<matplotlib.figure.Figure at 0x1073f8590>"
      ]
     },
     "metadata": {},
     "output_type": "display_data"
    }
   ],
   "source": [
    "stadiums.plot(kind='scatter', x='nr_seats', y=u'cost', ylim=(0,1e9), xlim=(0,1e5))"
   ]
  },
  {
   "cell_type": "markdown",
   "metadata": {},
   "source": [
    "Looking at the graph above shows that the relationship is not linear; it looks exponential: the marginal cost of seats increases with stadium size. So let's take the logarithm of the cost (to counter the exponential relationship) and display that data. \n",
    "\n",
    "In the figure below I use the `seaborn` package because it makes it very easy to add a regression line to a scatterplot:"
   ]
  },
  {
   "cell_type": "code",
   "execution_count": 10,
   "metadata": {
    "collapsed": false
   },
   "outputs": [
    {
     "data": {
      "text/plain": [
       "<seaborn.axisgrid.FacetGrid at 0x10b966bd0>"
      ]
     },
     "execution_count": 10,
     "metadata": {},
     "output_type": "execute_result"
    },
    {
     "data": {
      "image/png": "[encoded data removed]",
      "text/plain": [
       "<matplotlib.figure.Figure at 0x10b966d90>"
      ]
     },
     "metadata": {},
     "output_type": "display_data"
    }
   ],
   "source": [
    "import seaborn as sns\n",
    "\n",
    "stadiums['log_cost'] = stadiums['cost'].map(np.log)\n",
    "p = sns.lmplot(x=\"nr_seats\", y=\"log_cost\", data=stadiums);\n",
    "p.set(ylim=(16, 21), xlim = (0, 1e5))\n"
   ]
  },
  {
   "cell_type": "markdown",
   "metadata": {},
   "source": [
    "This relationship seems pretty solid, the number of the seats in the stadium seems to explain the logarithm of the price of the stadium quite well!\n",
    "\n",
    "To learn more about this relationship, let's run a regression model on this data."
   ]
  },
  {
   "cell_type": "markdown",
   "metadata": {},
   "source": [
    "## Regression analysis and comparison of actual costs to predicted costs"
   ]
  },
  {
   "cell_type": "markdown",
   "metadata": {},
   "source": [
    "For the [regression analysis](https://en.wikipedia.org/wiki/Regression_analysis), I will use the statsmodels package. A detailed tutorial can be found [here](http://statsmodels.sourceforge.net/devel/examples/notebooks/generated/ols.html). \n",
    "\n",
    "The line in the figure above is already the visual represenatation of a fitted regression model, where we assumed that the relationship between the number of seats and the cost of the stadium is as follows:\n",
    "\n",
    "$$\\ln(\\textit{cost}) = \\beta_0 + \\beta_1 \\cdot \\textit{nr_seats} + \\varepsilon$$\n",
    "\n",
    "The model has the intercept ($\\beta_0$) and the slope ($\\beta_1$) of this linear relationship, and $\\varepsilon$ is an error term since we cannot realistically expect all observations to fall exactly on the line. We can estimate these parameters from the data and predict the log cost for each stadium based on its number of seats:\n",
    "\n",
    "$$\\hat{\\ln(\\textit{cost})} = \\hat{\\beta_0} + \\hat{\\beta_1} \\cdot \\textit{nr_seats}$$\n",
    "\n",
    "I will use these to assess how much the predicted log cost given the number of seats differs from the actual stadium cost. \n",
    "\n",
    "Those familiar with regression analysis can download this notebook and run ```results.summary()``` to see the details of the model."
   ]
  },
  {
   "cell_type": "code",
   "execution_count": 11,
   "metadata": {
    "collapsed": true
   },
   "outputs": [],
   "source": [
    "import statsmodels.api as sm"
   ]
  },
  {
   "cell_type": "code",
   "execution_count": 12,
   "metadata": {
    "collapsed": false,
    "scrolled": false
   },
   "outputs": [
    {
     "name": "stdout",
     "output_type": "stream",
     "text": [
      "('Parameters: ', [16.524423597010077, 5.0149327345107249e-05])\n",
      "('R2: ', 0.90103527307801023)\n"
     ]
    }
   ],
   "source": [
    "y = stadiums['log_cost']\n",
    "X = stadiums['nr_seats']\n",
    "X = sm.add_constant(X)\n",
    "\n",
    "model = sm.OLS(y, X)\n",
    "results = model.fit()\n",
    "\n",
    "print('Parameters: ', list(results.params))\n",
    "print('R2: ', results.rsquared)"
   ]
  },
  {
   "cell_type": "markdown",
   "metadata": {},
   "source": [
    "The model has been calculated above and stored in the `results` object. The estimated intercept is 16.52; the estimated slope of the curve is 0.00005. Due to the mathematical properties of the model, this can be interpreted as each chair increasing the price of the stadium by 0.005% [(Benoit, 2011)](http://www.kenbenoit.net/courses/ME104/logmodels2.pdf).\n",
    "\n",
    "The adjusted $R^2$, shown above, shows that the model is actually a very good fit for one variable: about 90% of the variation in the log price are explained by the number of seats in a stadium.\n",
    "\n",
    "Let's calculate the predicted cost for each of the stadiums based on the number of their seats (we take the exponential of the predicted log price to get actual € values)."
   ]
  },
  {
   "cell_type": "code",
   "execution_count": 13,
   "metadata": {
    "collapsed": false
   },
   "outputs": [],
   "source": [
    "stadiums['predicted_cost'] = np.exp(results.predict(X))"
   ]
  },
  {
   "cell_type": "markdown",
   "metadata": {},
   "source": [
    "Also, let's calculate the difference between the actual and predicted values (i.e. an estimated cost overrun) both in € and percentage terms; this will allow us to see whether Puskás really is an irreasonably expensive:"
   ]
  },
  {
   "cell_type": "code",
   "execution_count": 14,
   "metadata": {
    "collapsed": false
   },
   "outputs": [],
   "source": [
    "stadiums['cost_difference'] = stadiums['cost'] - stadiums['predicted_cost']\n",
    "stadiums['cost_difference_perc'] = (stadiums['cost'] / stadiums['predicted_cost'] - 1) * 100"
   ]
  },
  {
   "cell_type": "markdown",
   "metadata": {},
   "source": [
    "Plotting the cost overrun in relative terms (i.e. as a percentage of the predicted cost) and in €s:"
   ]
  },
  {
   "cell_type": "code",
   "execution_count": 15,
   "metadata": {
    "collapsed": false,
    "scrolled": false
   },
   "outputs": [
    {
     "data": {
      "text/plain": [
       "<matplotlib.axes._subplots.AxesSubplot at 0x10c245ad0>"
      ]
     },
     "execution_count": 15,
     "metadata": {},
     "output_type": "execute_result"
    },
    {
     "data": {
      "image/png": "[encoded data removed]",
      "text/plain": [
       "<matplotlib.figure.Figure at 0x10c245190>"
      ]
     },
     "metadata": {},
     "output_type": "display_data"
    }
   ],
   "source": [
    "stadiums[['cost_difference_perc']].sort_values('cost_difference_perc').plot(\n",
    "    kind = 'barh', title='Cost overrun compared to predicted cost (%)', figsize=(8,6))"
   ]
  },
  {
   "cell_type": "code",
   "execution_count": 16,
   "metadata": {
    "collapsed": false
   },
   "outputs": [
    {
     "data": {
      "text/plain": [
       "<matplotlib.axes._subplots.AxesSubplot at 0x10c33a750>"
      ]
     },
     "execution_count": 16,
     "metadata": {},
     "output_type": "execute_result"
    },
    {
     "data": {
      "image/png": "[encoded data removed]",
      "text/plain": [
       "<matplotlib.figure.Figure at 0x10c08e1d0>"
      ]
     },
     "metadata": {},
     "output_type": "display_data"
    }
   ],
   "source": [
    "stadiums[['cost_difference']].sort_values('cost_difference').plot(\n",
    "    kind = 'barh', title=u'Cost overrun compared to predicted cost (€)', figsize=(8,6))"
   ]
  },
  {
   "cell_type": "markdown",
   "metadata": {},
   "source": [
    "We can see that while Puskás is indeed somewhat more expensive than we would expect based on its size, the difference is not very large compared to other cases.\n",
    "\n",
    "## Summary of results\n",
    "\n",
    "In the analysis above I briefly looked at the relationship between the number of seats in a stadium and the total cost of construction. I have found that this is indeed a strong relationship: the number of seats seems to be a good predictor of the cost.\n",
    "\n",
    "An interesting observation regarding this (very small!) dataset is that stadiums that were built in countries typically associated with higher corruption levels tend to overrun more as compared to the predicted cost than those in lower-corruption-level countries.\n",
    "\n",
    "The claim of the article mentioned in the beginning of this analysis that Puskás is too expensive does not seem to be supported by the data they provide – it might be very expensive, but that is then because of its size. My analysis cannot help to decide whether the size of Puskás Stadium is ideal; it only concludes that for this size this price is not too far from what is expected. \n",
    "\n",
    "Of course, it would be much better to control for country-specific effects (e.g. overall price/wage levels, corruption levels, popularity of football), or individual characteristics of the stadiums (e.g. number of inhabitants in the city, terrain, facilities). Such features would allow for a more roboust analysis of the costs as well as potential for predicting the 'right' size of the stadium, but they were not available for this short exercise.\n",
    "\n",
    "## Appendix: full data table with calculated columns\n",
    "### As a Pandas DataFrame"
   ]
  },
  {
   "cell_type": "code",
   "execution_count": 17,
   "metadata": {
    "collapsed": false
   },
   "outputs": [
    {
     "data": {
      "text/html": [
       "<div>\n",
       "<table border=\"1\" class=\"dataframe\">\n",
       "  <thead>\n",
       "    <tr style=\"text-align: right;\">\n",
       "      <th></th>\n",
       "      <th>nr_seats</th>\n",
       "      <th>cost</th>\n",
       "      <th>cost_per_seat</th>\n",
       "      <th>log_cost</th>\n",
       "      <th>predicted_cost</th>\n",
       "      <th>cost_difference</th>\n",
       "      <th>cost_difference_perc</th>\n",
       "    </tr>\n",
       "  </thead>\n",
       "  <tbody>\n",
       "    <tr>\n",
       "      <th>National Stadium, Bulgaria</th>\n",
       "      <td>33621</td>\n",
       "      <td>49500000</td>\n",
       "      <td>1472</td>\n",
       "      <td>17.717483</td>\n",
       "      <td>8.104330e+07</td>\n",
       "      <td>-3.154330e+07</td>\n",
       "      <td>-38.921539</td>\n",
       "    </tr>\n",
       "    <tr>\n",
       "      <th>Nagyerdei, Hungary</th>\n",
       "      <td>20340</td>\n",
       "      <td>40000000</td>\n",
       "      <td>1982</td>\n",
       "      <td>17.504390</td>\n",
       "      <td>4.163538e+07</td>\n",
       "      <td>-1.635383e+06</td>\n",
       "      <td>-3.927868</td>\n",
       "    </tr>\n",
       "    <tr>\n",
       "      <th>Groupama Aréna (FTC), Hungary</th>\n",
       "      <td>22000</td>\n",
       "      <td>47000000</td>\n",
       "      <td>2160</td>\n",
       "      <td>17.665658</td>\n",
       "      <td>4.524980e+07</td>\n",
       "      <td>1.750200e+06</td>\n",
       "      <td>3.867863</td>\n",
       "    </tr>\n",
       "    <tr>\n",
       "      <th>Juventus, Italy</th>\n",
       "      <td>41000</td>\n",
       "      <td>105000000</td>\n",
       "      <td>2560</td>\n",
       "      <td>18.469471</td>\n",
       "      <td>1.173353e+08</td>\n",
       "      <td>-1.233528e+07</td>\n",
       "      <td>-10.512847</td>\n",
       "    </tr>\n",
       "    <tr>\n",
       "      <th>Pancho Aréna, Hungary</th>\n",
       "      <td>3500</td>\n",
       "      <td>12000000</td>\n",
       "      <td>3500</td>\n",
       "      <td>16.300417</td>\n",
       "      <td>1.789347e+07</td>\n",
       "      <td>-5.893467e+06</td>\n",
       "      <td>-32.936418</td>\n",
       "    </tr>\n",
       "    <tr>\n",
       "      <th>Traktor, Belarussia</th>\n",
       "      <td>31000</td>\n",
       "      <td>115000000</td>\n",
       "      <td>3709</td>\n",
       "      <td>18.560443</td>\n",
       "      <td>7.106125e+07</td>\n",
       "      <td>4.393875e+07</td>\n",
       "      <td>61.832221</td>\n",
       "    </tr>\n",
       "    <tr>\n",
       "      <th>San Memés, Spain</th>\n",
       "      <td>53289</td>\n",
       "      <td>198000000</td>\n",
       "      <td>3735</td>\n",
       "      <td>19.103778</td>\n",
       "      <td>2.173091e+08</td>\n",
       "      <td>-1.930905e+07</td>\n",
       "      <td>-8.885526</td>\n",
       "    </tr>\n",
       "    <tr>\n",
       "      <th>Vélodrome, France</th>\n",
       "      <td>67394</td>\n",
       "      <td>267000000</td>\n",
       "      <td>3961</td>\n",
       "      <td>19.402759</td>\n",
       "      <td>4.408377e+08</td>\n",
       "      <td>-1.738377e+08</td>\n",
       "      <td>-39.433494</td>\n",
       "    </tr>\n",
       "    <tr>\n",
       "      <th>National Stadium, Romania</th>\n",
       "      <td>55634</td>\n",
       "      <td>234000000</td>\n",
       "      <td>4206</td>\n",
       "      <td>19.270832</td>\n",
       "      <td>2.444280e+08</td>\n",
       "      <td>-1.042798e+07</td>\n",
       "      <td>-4.266280</td>\n",
       "    </tr>\n",
       "    <tr>\n",
       "      <th>Hidegkuti (MTK), Hungary</th>\n",
       "      <td>5332</td>\n",
       "      <td>23000000</td>\n",
       "      <td>4394</td>\n",
       "      <td>16.951005</td>\n",
       "      <td>1.961529e+07</td>\n",
       "      <td>3.384712e+06</td>\n",
       "      <td>17.255481</td>\n",
       "    </tr>\n",
       "    <tr>\n",
       "      <th>Allianz Aréna, Germany</th>\n",
       "      <td>69901</td>\n",
       "      <td>340000000</td>\n",
       "      <td>4864</td>\n",
       "      <td>19.644456</td>\n",
       "      <td>4.998965e+08</td>\n",
       "      <td>-1.598965e+08</td>\n",
       "      <td>-31.985927</td>\n",
       "    </tr>\n",
       "    <tr>\n",
       "      <th>Eurostadion, Belgium</th>\n",
       "      <td>62613</td>\n",
       "      <td>314000000</td>\n",
       "      <td>5014</td>\n",
       "      <td>19.564904</td>\n",
       "      <td>3.468571e+08</td>\n",
       "      <td>-3.285710e+07</td>\n",
       "      <td>-9.472805</td>\n",
       "    </tr>\n",
       "    <tr>\n",
       "      <th>Puskás, Hungary</th>\n",
       "      <td>67000</td>\n",
       "      <td>458000000</td>\n",
       "      <td>6740</td>\n",
       "      <td>19.942380</td>\n",
       "      <td>4.322128e+08</td>\n",
       "      <td>2.578724e+07</td>\n",
       "      <td>5.966330</td>\n",
       "    </tr>\n",
       "    <tr>\n",
       "      <th>National Stadium, Poland</th>\n",
       "      <td>58145</td>\n",
       "      <td>430000000</td>\n",
       "      <td>7395</td>\n",
       "      <td>19.879296</td>\n",
       "      <td>2.772295e+08</td>\n",
       "      <td>1.527705e+08</td>\n",
       "      <td>55.106149</td>\n",
       "    </tr>\n",
       "    <tr>\n",
       "      <th>Wembley, England</th>\n",
       "      <td>90000</td>\n",
       "      <td>900000000</td>\n",
       "      <td>10000</td>\n",
       "      <td>20.617905</td>\n",
       "      <td>1.369708e+09</td>\n",
       "      <td>-4.697075e+08</td>\n",
       "      <td>-34.292541</td>\n",
       "    </tr>\n",
       "    <tr>\n",
       "      <th>National Stadium, Azerbaijan</th>\n",
       "      <td>69870</td>\n",
       "      <td>710000000</td>\n",
       "      <td>10161</td>\n",
       "      <td>20.380776</td>\n",
       "      <td>4.991200e+08</td>\n",
       "      <td>2.108800e+08</td>\n",
       "      <td>42.250362</td>\n",
       "    </tr>\n",
       "    <tr>\n",
       "      <th>Kresztotvszki, Russia</th>\n",
       "      <td>61251</td>\n",
       "      <td>934000000</td>\n",
       "      <td>15248</td>\n",
       "      <td>20.654987</td>\n",
       "      <td>3.239566e+08</td>\n",
       "      <td>6.100434e+08</td>\n",
       "      <td>188.310244</td>\n",
       "    </tr>\n",
       "  </tbody>\n",
       "</table>\n",
       "</div>"
      ],
      "text/plain": [
       "                               nr_seats       cost  cost_per_seat   log_cost  \\\n",
       "National Stadium, Bulgaria        33621   49500000           1472  17.717483   \n",
       "Nagyerdei, Hungary                20340   40000000           1982  17.504390   \n",
       "Groupama Aréna (FTC), Hungary     22000   47000000           2160  17.665658   \n",
       "Juventus, Italy                   41000  105000000           2560  18.469471   \n",
       "Pancho Aréna, Hungary              3500   12000000           3500  16.300417   \n",
       "Traktor, Belarussia               31000  115000000           3709  18.560443   \n",
       "San Memés, Spain                  53289  198000000           3735  19.103778   \n",
       "Vélodrome, France                 67394  267000000           3961  19.402759   \n",
       "National Stadium, Romania         55634  234000000           4206  19.270832   \n",
       "Hidegkuti (MTK), Hungary           5332   23000000           4394  16.951005   \n",
       "Allianz Aréna, Germany            69901  340000000           4864  19.644456   \n",
       "Eurostadion, Belgium              62613  314000000           5014  19.564904   \n",
       "Puskás, Hungary                   67000  458000000           6740  19.942380   \n",
       "National Stadium, Poland          58145  430000000           7395  19.879296   \n",
       "Wembley, England                  90000  900000000          10000  20.617905   \n",
       "National Stadium, Azerbaijan      69870  710000000          10161  20.380776   \n",
       "Kresztotvszki, Russia             61251  934000000          15248  20.654987   \n",
       "\n",
       "                               predicted_cost  cost_difference  \\\n",
       "National Stadium, Bulgaria       8.104330e+07    -3.154330e+07   \n",
       "Nagyerdei, Hungary               4.163538e+07    -1.635383e+06   \n",
       "Groupama Aréna (FTC), Hungary    4.524980e+07     1.750200e+06   \n",
       "Juventus, Italy                  1.173353e+08    -1.233528e+07   \n",
       "Pancho Aréna, Hungary            1.789347e+07    -5.893467e+06   \n",
       "Traktor, Belarussia              7.106125e+07     4.393875e+07   \n",
       "San Memés, Spain                 2.173091e+08    -1.930905e+07   \n",
       "Vélodrome, France                4.408377e+08    -1.738377e+08   \n",
       "National Stadium, Romania        2.444280e+08    -1.042798e+07   \n",
       "Hidegkuti (MTK), Hungary         1.961529e+07     3.384712e+06   \n",
       "Allianz Aréna, Germany           4.998965e+08    -1.598965e+08   \n",
       "Eurostadion, Belgium             3.468571e+08    -3.285710e+07   \n",
       "Puskás, Hungary                  4.322128e+08     2.578724e+07   \n",
       "National Stadium, Poland         2.772295e+08     1.527705e+08   \n",
       "Wembley, England                 1.369708e+09    -4.697075e+08   \n",
       "National Stadium, Azerbaijan     4.991200e+08     2.108800e+08   \n",
       "Kresztotvszki, Russia            3.239566e+08     6.100434e+08   \n",
       "\n",
       "                               cost_difference_perc  \n",
       "National Stadium, Bulgaria               -38.921539  \n",
       "Nagyerdei, Hungary                        -3.927868  \n",
       "Groupama Aréna (FTC), Hungary              3.867863  \n",
       "Juventus, Italy                          -10.512847  \n",
       "Pancho Aréna, Hungary                    -32.936418  \n",
       "Traktor, Belarussia                       61.832221  \n",
       "San Memés, Spain                          -8.885526  \n",
       "Vélodrome, France                        -39.433494  \n",
       "National Stadium, Romania                 -4.266280  \n",
       "Hidegkuti (MTK), Hungary                  17.255481  \n",
       "Allianz Aréna, Germany                   -31.985927  \n",
       "Eurostadion, Belgium                      -9.472805  \n",
       "Puskás, Hungary                            5.966330  \n",
       "National Stadium, Poland                  55.106149  \n",
       "Wembley, England                         -34.292541  \n",
       "National Stadium, Azerbaijan              42.250362  \n",
       "Kresztotvszki, Russia                    188.310244  "
      ]
     },
     "execution_count": 17,
     "metadata": {},
     "output_type": "execute_result"
    }
   ],
   "source": [
    "stadiums"
   ]
  },
  {
   "cell_type": "markdown",
   "metadata": {},
   "source": [
    "### As ready-to-copy-paste csv"
   ]
  },
  {
   "cell_type": "code",
   "execution_count": 18,
   "metadata": {
    "collapsed": false
   },
   "outputs": [
    {
     "name": "stdout",
     "output_type": "stream",
     "text": [
      ",nr_seats,cost,cost_per_seat,log_cost,predicted_cost,cost_difference,cost_difference_perc\n",
      "\"National Stadium, Bulgaria\",33621.0,49500000.0,1472.0,17.7174832275,81043299.5115,-31543299.5115,-38.9215391052\n",
      "\"Nagyerdei, Hungary\",20340.0,40000000.0,1982.0,17.5043900121,41635382.9421,-1635382.94207,-3.92786814125\n",
      "\"Groupama Aréna (FTC), Hungary\",22000.0,47000000.0,2160.0,17.6656581597,45249799.5652,1750200.43478,3.86786339741\n",
      "\"Juventus, Italy\",41000.0,105000000.0,2560.0,18.4694709081,117335277.946,-12335277.9459,-10.512846743\n",
      "\"Pancho Aréna, Hungary\",3500.0,12000000.0,3500.0,16.3004172078,17893467.1895,-5893467.18954,-32.9364182308\n",
      "\"Traktor, Belarussia\",31000.0,115000000.0,3709.0,18.5604426863,71061250.3935,43938749.6065,61.8322213065\n",
      "\"San Memés, Spain\",53289.0,198000000.0,3735.0,19.1037775887,217309052.184,-19309052.1844,-8.88552593199\n",
      "\"Vélodrome, France\",67394.0,267000000.0,3961.0,19.4027592164,440837711.305,-173837711.305,-39.4334937432\n",
      "\"National Stadium, Romania\",55634.0,234000000.0,4206.0,19.2708316733,244427982.778,-10427982.7785,-4.2662802597\n",
      "\"Hidegkuti (MTK), Hungary\",5332.0,23000000.0,4394.0,16.9510047739,19615287.8089,3384712.19114,17.2554806441\n",
      "\"Allianz Aréna, Germany\",69901.0,340000000.0,4864.0,19.6444561756,499896546.391,-159896546.391,-31.9859273975\n",
      "\"Eurostadion, Belgium\",62613.0,314000000.0,5014.0,19.5649035439,346857097.412,-32857097.4122,-9.47280527265\n",
      "\"Puskás, Hungary\",67000.0,458000000.0,6740.0,19.9423797421,432212761.799,25787238.201,5.96632965989\n",
      "\"National Stadium, Poland\",58145.0,430000000.0,7395.0,19.8792957667,277229498.48,152770501.52,55.1061493663\n",
      "\"Wembley, England\",90000.0,900000000.0,10000.0,20.6179053213,1369707510.59,-469707510.585,-34.2925410685\n",
      "\"National Stadium, Azerbaijan\",69870.0,710000000.0,10161.0,20.380775528,499119996.429,210880003.571,42.2503616524\n",
      "\"Kresztotvszki, Russia\",61251.0,934000000.0,15248.0,20.6549869962,323956577.99,610043422.01,188.310243859\n",
      "\n"
     ]
    }
   ],
   "source": [
    "print stadiums.to_csv(encoding='utf8')"
   ]
  }
 ],
 "metadata": {
  "kernelspec": {
   "display_name": "Python 2",
   "language": "python",
   "name": "python2"
  },
  "language_info": {
   "codemirror_mode": {
    "name": "ipython",
    "version": 2
   },
   "file_extension": ".py",
   "mimetype": "text/x-python",
   "name": "python",
   "nbconvert_exporter": "python",
   "pygments_lexer": "ipython2",
   "version": "2.7.11"
  }
 },
 "nbformat": 4,
 "nbformat_minor": 0
}
